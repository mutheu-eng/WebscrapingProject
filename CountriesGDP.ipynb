{
 "cells": [
  {
   "cell_type": "code",
   "execution_count": 1,
   "metadata": {},
   "outputs": [],
   "source": [
    "from bs4 import BeautifulSoup\n",
    "import requests\n",
    "import pandas as pd"
   ]
  },
  {
   "cell_type": "code",
   "execution_count": 2,
   "metadata": {},
   "outputs": [],
   "source": [
    "url = 'https://en.wikipedia.org/wiki/List_of_countries_by_GDP_(nominal)'\n",
    "\n",
    "page = requests.get(url)\n",
    "\n",
    "soup = BeautifulSoup(page.text, 'html')"
   ]
  },
  {
   "cell_type": "code",
   "execution_count": 5,
   "metadata": {},
   "outputs": [
    {
     "data": {
      "text/plain": [
       "<table border=\"0\" cellpadding=\"2\" cellspacing=\"0\" style=\"float:right;\">\n",
       "<tbody><tr>\n",
       "<td><div class=\"timeline-wrapper\"><map name=\"timeline_fqqng0tmo92l3oig81vteqxt6t9f10k\"></map><img src=\"//upload.wikimedia.org/wikipedia/en/timeline/fqqng0tmo92l3oig81vteqxt6t9f10k.png\" usemap=\"#timeline_fqqng0tmo92l3oig81vteqxt6t9f10k\"/></div>\n",
       "</td></tr>\n",
       "<tr>\n",
       "<td style=\"text-align:center; font-size:90%;\">Largest economies in the world by GDP (nominal) in 2024<br/>according to <a href=\"/wiki/International_Monetary_Fund\" title=\"International Monetary Fund\">International Monetary Fund</a> estimates<sup class=\"reference\" id=\"cite_ref-China-THM_1-0\"><a href=\"#cite_note-China-THM-1\">[n 1]</a></sup><sup class=\"reference\" id=\"cite_ref-GDP_IMF_2-0\"><a href=\"#cite_note-GDP_IMF-2\">[1]</a></sup>\n",
       "</td></tr></tbody></table>"
      ]
     },
     "execution_count": 5,
     "metadata": {},
     "output_type": "execute_result"
    }
   ],
   "source": [
    "soup.find_all('table')[0]"
   ]
  },
  {
   "cell_type": "markdown",
   "metadata": {},
   "source": [
    "table = soup.find_all('table')[3]\n",
    "\n",
    "table"
   ]
  },
  {
   "cell_type": "code",
   "execution_count": 8,
   "metadata": {},
   "outputs": [
    {
     "data": {
      "text/plain": [
       "[]"
      ]
     },
     "execution_count": 8,
     "metadata": {},
     "output_type": "execute_result"
    }
   ],
   "source": [
    "country_title = table.find_all('th')\n",
    "\n",
    "country_title"
   ]
  },
  {
   "cell_type": "code",
   "execution_count": null,
   "metadata": {},
   "outputs": [],
   "source": []
  }
 ],
 "metadata": {
  "kernelspec": {
   "display_name": "Python 3",
   "language": "python",
   "name": "python3"
  },
  "language_info": {
   "codemirror_mode": {
    "name": "ipython",
    "version": 3
   },
   "file_extension": ".py",
   "mimetype": "text/x-python",
   "name": "python",
   "nbconvert_exporter": "python",
   "pygments_lexer": "ipython3",
   "version": "3.12.2"
  }
 },
 "nbformat": 4,
 "nbformat_minor": 2
}
